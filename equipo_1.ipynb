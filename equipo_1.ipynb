{
  "nbformat": 4,
  "nbformat_minor": 0,
  "metadata": {
    "colab": {
      "provenance": [],
      "include_colab_link": true
    },
    "kernelspec": {
      "name": "python3",
      "display_name": "Python 3"
    },
    "language_info": {
      "name": "python"
    }
  },
  "cells": [
    {
      "cell_type": "markdown",
      "metadata": {
        "id": "view-in-github",
        "colab_type": "text"
      },
      "source": [
        "<a href=\"https://colab.research.google.com/github/BriciaGalindoM/RETO_IN1002B/blob/main/equipo_1.ipynb\" target=\"_parent\"><img src=\"https://colab.research.google.com/assets/colab-badge.svg\" alt=\"Open In Colab\"/></a>"
      ]
    },
    {
      "cell_type": "code",
      "source": [
        "import pandas as pd\n",
        "\n",
        "# URL del archivo en GitHub\n",
        "\n",
        "url = 'https://raw.githubusercontent.com/BriciaGalindoM/RETO_IN1002B/refs/heads/main/Data/Student%20Survey%20Data.csv'\n",
        "\n",
        "\n",
        "\n",
        "\n",
        "# Leer el CSV\n",
        "df = pd.read_csv(url)\n",
        "\n",
        "# Mostrar los datos\n",
        "print(df.head())\n",
        "\n"
      ],
      "metadata": {
        "colab": {
          "base_uri": "https://localhost:8080/"
        },
        "id": "1JVt5pmbY2eF",
        "outputId": "e3d423f5-98a3-489d-91ed-c41adc0bc7cc"
      },
      "execution_count": null,
      "outputs": [
        {
          "output_type": "stream",
          "name": "stdout",
          "text": [
            "   Duration (in seconds)   Finished         RecordedDate  \\\n",
            "0                   1450  Verdadero  2024-09-28 09:14:51   \n",
            "1                    659  Verdadero  2024-09-28 09:28:54   \n",
            "2                   1461  Verdadero  2024-09-28 10:04:06   \n",
            "3                  13290  Verdadero  2024-09-28 13:33:08   \n",
            "4                   1021  Verdadero  2024-09-28 13:42:00   \n",
            "\n",
            "                                                 1.1  \\\n",
            "0                         Demián Emilio Varela Pérez   \n",
            "1                         Demián Emilio Varela Pérez   \n",
            "2                         Demián Emilio Varela Pérez   \n",
            "3                                 Alejandro Labrado    \n",
            "4  Cecilia Parra Corral Tec de Monterrey Campus C...   \n",
            "\n",
            "                                1.2 1.3                        1.4  1.5 1.5.1  \\\n",
            "0  Miscelanea o Tienda de Abarrotes  Sí     Tortillería Santo niño  NaN   NaN   \n",
            "1              Dulcería y Panadería  Sí  Lonches y panadería la 27  NaN   NaN   \n",
            "2  Miscelanea o Tienda de Abarrotes  Sí                Super cerca  NaN   NaN   \n",
            "3                         Cafetería  Sí               Verde limón   NaN   NaN   \n",
            "4              Dulcería y Panadería  No            Dulces catedral  NaN   NaN   \n",
            "\n",
            "      2.1  ...  Growth  Reason_no_growth              Q28      7.1      7.2  \\\n",
            "0  1988.0  ...      Sí               NaN             Baja  6:30 am  4:00 pm   \n",
            "1  2017.0  ...      Sí               NaN            40000  8:00 am  8:00 pm   \n",
            "2  2023.0  ...      Sí               NaN            35000  8:00 am  4:00 pm   \n",
            "3  2014.0  ...      Sí               NaN            15000  8:00 am  5:00 pm   \n",
            "4  2017.0  ...      Sí               NaN  menos de 15,000  8:00 am  7:00 pm   \n",
            "\n",
            "      7.3  7.4     7.5                7.6         7.7  \n",
            "0  Hombre  NaN  Propio  Universidad y más  De 51 a 60  \n",
            "1  Hombre  NaN  Propio  Universidad y más  De 51 a 60  \n",
            "2  Hombre  NaN  Propio  Universidad y más  De 21 a 30  \n",
            "3  Hombre  NaN  Propio  Universidad y más  De 51 a 60  \n",
            "4  Hombre  NaN  Propio  Universidad y más  De 41 a 50  \n",
            "\n",
            "[5 rows x 43 columns]\n"
          ]
        }
      ]
    }
  ]
}